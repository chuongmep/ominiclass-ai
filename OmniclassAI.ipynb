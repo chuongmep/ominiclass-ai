{
 "cells": [
  {
   "cell_type": "markdown",
   "metadata": {},
   "source": [
    "Documentation : \n",
    "- https://docs.pandas-ai.com/en/latest/\n",
    "- https://github.com/pgalko/BambooAI"
   ]
  },
  {
   "cell_type": "code",
   "execution_count": null,
   "metadata": {},
   "outputs": [],
   "source": [
    "%pip install pandasai --upgrade\n",
    "%pip install pandas --upgrade\n"
   ]
  },
  {
   "cell_type": "code",
   "execution_count": 2,
   "metadata": {},
   "outputs": [],
   "source": [
    "url = \"https://download.autodesk.com/us/revit/OmniClassTaxonomy.txt\"\n",
    "help = \"https://help.autodesk.com/view/RVT/2022/ENU/?guid=GUID-BA0B2713-ADA0-4E51-A7CD-85D85511F3ED\""
   ]
  },
  {
   "cell_type": "code",
   "execution_count": 5,
   "metadata": {},
   "outputs": [],
   "source": [
    "# import ssl\n",
    "# ssl._create_default_https_context = ssl._create_unverified_context\n",
    "\n",
    "# macos problem with ssl certificate"
   ]
  },
  {
   "cell_type": "code",
   "execution_count": 6,
   "metadata": {},
   "outputs": [],
   "source": [
    "import os\n",
    "import pandas as pd\n",
    "import pandasai as pdai\n",
    "import warnings\n",
    "warnings.filterwarnings('ignore')"
   ]
  },
  {
   "cell_type": "code",
   "execution_count": 7,
   "metadata": {},
   "outputs": [
    {
     "data": {
      "text/html": [
       "<div>\n",
       "<style scoped>\n",
       "    .dataframe tbody tr th:only-of-type {\n",
       "        vertical-align: middle;\n",
       "    }\n",
       "\n",
       "    .dataframe tbody tr th {\n",
       "        vertical-align: top;\n",
       "    }\n",
       "\n",
       "    .dataframe thead th {\n",
       "        text-align: right;\n",
       "    }\n",
       "</style>\n",
       "<table border=\"1\" class=\"dataframe\">\n",
       "  <thead>\n",
       "    <tr style=\"text-align: right;\">\n",
       "      <th></th>\n",
       "      <th>Code</th>\n",
       "      <th>Category</th>\n",
       "      <th>Level</th>\n",
       "    </tr>\n",
       "  </thead>\n",
       "  <tbody>\n",
       "    <tr>\n",
       "      <th>0</th>\n",
       "      <td>23.11.11.00</td>\n",
       "      <td>Ground Anchorages</td>\n",
       "      <td>2</td>\n",
       "    </tr>\n",
       "    <tr>\n",
       "      <th>1</th>\n",
       "      <td>23.11.11.11</td>\n",
       "      <td>Retaining Stabilizing Ground Anchors</td>\n",
       "      <td>3</td>\n",
       "    </tr>\n",
       "    <tr>\n",
       "      <th>2</th>\n",
       "      <td>23.11.11.11.11</td>\n",
       "      <td>Retaining Stabilizing Ground Components</td>\n",
       "      <td>4</td>\n",
       "    </tr>\n",
       "    <tr>\n",
       "      <th>3</th>\n",
       "      <td>23.11.11.11.11.11</td>\n",
       "      <td>Stabilizing Ground Anchor Heads</td>\n",
       "      <td>5</td>\n",
       "    </tr>\n",
       "    <tr>\n",
       "      <th>4</th>\n",
       "      <td>23.11.11.11.11.13</td>\n",
       "      <td>Stabilizing Ground Tendons</td>\n",
       "      <td>5</td>\n",
       "    </tr>\n",
       "  </tbody>\n",
       "</table>\n",
       "</div>"
      ],
      "text/plain": [
       "                Code                                 Category Level\n",
       "0        23.11.11.00                        Ground Anchorages     2\n",
       "1        23.11.11.11     Retaining Stabilizing Ground Anchors     3\n",
       "2     23.11.11.11.11  Retaining Stabilizing Ground Components     4\n",
       "3  23.11.11.11.11.11          Stabilizing Ground Anchor Heads     5\n",
       "4  23.11.11.11.11.13               Stabilizing Ground Tendons     5"
      ]
     },
     "execution_count": 7,
     "metadata": {},
     "output_type": "execute_result"
    }
   ],
   "source": [
    "df = pd.read_csv(url, sep=\"\\t\", encoding=\"latin1\") \n",
    "df = df.astype(str)\n",
    "df = df.apply(lambda x: x.str.strip())\n",
    "df = df.iloc[:, :-1]\n",
    "df.columns = [\"Code\", \"Category\", \"Level\"]\n",
    "df.head()"
   ]
  },
  {
   "cell_type": "code",
   "execution_count": 4,
   "metadata": {},
   "outputs": [],
   "source": [
    "df.reset_index(drop=True, inplace=True)\n",
    "df.to_csv(\"OmniClassTaxonomy.csv\",header=True, index=False)"
   ]
  },
  {
   "cell_type": "code",
   "execution_count": 8,
   "metadata": {},
   "outputs": [
    {
     "data": {
      "text/html": [
       "<div>\n",
       "<style scoped>\n",
       "    .dataframe tbody tr th:only-of-type {\n",
       "        vertical-align: middle;\n",
       "    }\n",
       "\n",
       "    .dataframe tbody tr th {\n",
       "        vertical-align: top;\n",
       "    }\n",
       "\n",
       "    .dataframe thead th {\n",
       "        text-align: right;\n",
       "    }\n",
       "</style>\n",
       "<table border=\"1\" class=\"dataframe\">\n",
       "  <thead>\n",
       "    <tr style=\"text-align: right;\">\n",
       "      <th></th>\n",
       "      <th>Code</th>\n",
       "      <th>Category</th>\n",
       "      <th>Level</th>\n",
       "    </tr>\n",
       "  </thead>\n",
       "  <tbody>\n",
       "    <tr>\n",
       "      <th>0</th>\n",
       "      <td>23.11.11.00</td>\n",
       "      <td>Ground Anchorages</td>\n",
       "      <td>2</td>\n",
       "    </tr>\n",
       "    <tr>\n",
       "      <th>1</th>\n",
       "      <td>23.11.11.11</td>\n",
       "      <td>Retaining Stabilizing Ground Anchors</td>\n",
       "      <td>3</td>\n",
       "    </tr>\n",
       "    <tr>\n",
       "      <th>2</th>\n",
       "      <td>23.11.11.11.11</td>\n",
       "      <td>Retaining Stabilizing Ground Components</td>\n",
       "      <td>4</td>\n",
       "    </tr>\n",
       "    <tr>\n",
       "      <th>3</th>\n",
       "      <td>23.11.11.11.11.11</td>\n",
       "      <td>Stabilizing Ground Anchor Heads</td>\n",
       "      <td>5</td>\n",
       "    </tr>\n",
       "    <tr>\n",
       "      <th>4</th>\n",
       "      <td>23.11.11.11.11.13</td>\n",
       "      <td>Stabilizing Ground Tendons</td>\n",
       "      <td>5</td>\n",
       "    </tr>\n",
       "    <tr>\n",
       "      <th>5</th>\n",
       "      <td>23.11.11.11.13</td>\n",
       "      <td>Stabilizing Ground Grouted Anchors</td>\n",
       "      <td>4</td>\n",
       "    </tr>\n",
       "    <tr>\n",
       "      <th>6</th>\n",
       "      <td>23.11.11.11.15</td>\n",
       "      <td>Stabilizing Ground Plate Anchors</td>\n",
       "      <td>4</td>\n",
       "    </tr>\n",
       "    <tr>\n",
       "      <th>7</th>\n",
       "      <td>23.11.11.11.17</td>\n",
       "      <td>Stabilizing Ground Rock Bolts</td>\n",
       "      <td>4</td>\n",
       "    </tr>\n",
       "    <tr>\n",
       "      <th>8</th>\n",
       "      <td>23.11.11.11.19</td>\n",
       "      <td>Stabilizing Ground Rock Anchors</td>\n",
       "      <td>4</td>\n",
       "    </tr>\n",
       "    <tr>\n",
       "      <th>9</th>\n",
       "      <td>23.11.11.11.21</td>\n",
       "      <td>Stabilizing Ground Anchor Tiebacks</td>\n",
       "      <td>4</td>\n",
       "    </tr>\n",
       "    <tr>\n",
       "      <th>10</th>\n",
       "      <td>23.11.11.13</td>\n",
       "      <td>Earth Reinforcement Anchors</td>\n",
       "      <td>3</td>\n",
       "    </tr>\n",
       "    <tr>\n",
       "      <th>11</th>\n",
       "      <td>23.11.11.13.11</td>\n",
       "      <td>Earth Reinforcement Soil Nails</td>\n",
       "      <td>4</td>\n",
       "    </tr>\n",
       "    <tr>\n",
       "      <th>12</th>\n",
       "      <td>23.11.13.00</td>\n",
       "      <td>Ground Improvement Products</td>\n",
       "      <td>2</td>\n",
       "    </tr>\n",
       "    <tr>\n",
       "      <th>13</th>\n",
       "      <td>23.11.13.11</td>\n",
       "      <td>Soil Stabilization Products</td>\n",
       "      <td>3</td>\n",
       "    </tr>\n",
       "    <tr>\n",
       "      <th>14</th>\n",
       "      <td>23.11.13.11.11</td>\n",
       "      <td>Soil Stabilization Injectable Chemicals</td>\n",
       "      <td>4</td>\n",
       "    </tr>\n",
       "    <tr>\n",
       "      <th>15</th>\n",
       "      <td>23.11.13.11.13</td>\n",
       "      <td>Soil Stabilization Pressure Grouting</td>\n",
       "      <td>4</td>\n",
       "    </tr>\n",
       "    <tr>\n",
       "      <th>16</th>\n",
       "      <td>23.11.13.11.15</td>\n",
       "      <td>Ground Freezing Soil Stabilization</td>\n",
       "      <td>4</td>\n",
       "    </tr>\n",
       "    <tr>\n",
       "      <th>17</th>\n",
       "      <td>23.11.13.11.17</td>\n",
       "      <td>Soil Stabilization Fills</td>\n",
       "      <td>4</td>\n",
       "    </tr>\n",
       "    <tr>\n",
       "      <th>18</th>\n",
       "      <td>23.11.13.11.17.11</td>\n",
       "      <td>Soil Stabilization Fill Blocks</td>\n",
       "      <td>5</td>\n",
       "    </tr>\n",
       "    <tr>\n",
       "      <th>19</th>\n",
       "      <td>23.11.13.11.17.13</td>\n",
       "      <td>Soil Stabilization Compressible Fill</td>\n",
       "      <td>5</td>\n",
       "    </tr>\n",
       "  </tbody>\n",
       "</table>\n",
       "</div>"
      ],
      "text/plain": [
       "                 Code                                 Category  Level\n",
       "0         23.11.11.00                        Ground Anchorages      2\n",
       "1         23.11.11.11     Retaining Stabilizing Ground Anchors      3\n",
       "2      23.11.11.11.11  Retaining Stabilizing Ground Components      4\n",
       "3   23.11.11.11.11.11          Stabilizing Ground Anchor Heads      5\n",
       "4   23.11.11.11.11.13               Stabilizing Ground Tendons      5\n",
       "5      23.11.11.11.13       Stabilizing Ground Grouted Anchors      4\n",
       "6      23.11.11.11.15         Stabilizing Ground Plate Anchors      4\n",
       "7      23.11.11.11.17            Stabilizing Ground Rock Bolts      4\n",
       "8      23.11.11.11.19          Stabilizing Ground Rock Anchors      4\n",
       "9      23.11.11.11.21       Stabilizing Ground Anchor Tiebacks      4\n",
       "10        23.11.11.13              Earth Reinforcement Anchors      3\n",
       "11     23.11.11.13.11           Earth Reinforcement Soil Nails      4\n",
       "12        23.11.13.00              Ground Improvement Products      2\n",
       "13        23.11.13.11              Soil Stabilization Products      3\n",
       "14     23.11.13.11.11  Soil Stabilization Injectable Chemicals      4\n",
       "15     23.11.13.11.13     Soil Stabilization Pressure Grouting      4\n",
       "16     23.11.13.11.15       Ground Freezing Soil Stabilization      4\n",
       "17     23.11.13.11.17                 Soil Stabilization Fills      4\n",
       "18  23.11.13.11.17.11           Soil Stabilization Fill Blocks      5\n",
       "19  23.11.13.11.17.13     Soil Stabilization Compressible Fill      5"
      ]
     },
     "execution_count": 8,
     "metadata": {},
     "output_type": "execute_result"
    }
   ],
   "source": [
    "filename = \"OmniClassTaxonomy.csv\"\n",
    "df = pd.read_csv(filename)\n",
    "df.head(20)"
   ]
  },
  {
   "cell_type": "code",
   "execution_count": 9,
   "metadata": {},
   "outputs": [],
   "source": [
    "openai_key = os.getenv(\"OPENAI_API_KEY\")\n",
    "# in windows : oepn environment variables and add new variable with name OPENAI_API_KEY and value as the key\n",
    "# in macos : open terminal with command `open ~/.zshrc` and add `export OPENAI_API_KEY=\"your_key_here\"` and save"
   ]
  },
  {
   "cell_type": "code",
   "execution_count": 14,
   "metadata": {},
   "outputs": [],
   "source": [
    "import os\n",
    "from pandasai import SmartDataframe\n",
    "from pandasai.llm import OpenAI\n",
    "llm = OpenAI(api_key=openai_key)\n",
    "agent = SmartDataframe(df, config={\"llm\": llm})\n"
   ]
  },
  {
   "cell_type": "code",
   "execution_count": 15,
   "metadata": {},
   "outputs": [
    {
     "name": "stdout",
     "output_type": "stream",
     "text": [
      "Exception in APILogger: {\"message\":\"Error: Invalid API Key\",\"data\":null}\n"
     ]
    },
    {
     "data": {
      "text/plain": [
       "'Category: Retaining Stabilizing Ground Components, Level: 4'"
      ]
     },
     "execution_count": 15,
     "metadata": {},
     "output_type": "execute_result"
    }
   ],
   "source": [
    "agent.chat('Give me category and level of 23.11.11.11.11?')"
   ]
  },
  {
   "cell_type": "code",
   "execution_count": 12,
   "metadata": {},
   "outputs": [
    {
     "data": {
      "text/html": [
       "<div>\n",
       "<style scoped>\n",
       "    .dataframe tbody tr th:only-of-type {\n",
       "        vertical-align: middle;\n",
       "    }\n",
       "\n",
       "    .dataframe tbody tr th {\n",
       "        vertical-align: top;\n",
       "    }\n",
       "\n",
       "    .dataframe thead th {\n",
       "        text-align: right;\n",
       "    }\n",
       "</style>\n",
       "<table border=\"1\" class=\"dataframe\">\n",
       "  <thead>\n",
       "    <tr style=\"text-align: right;\">\n",
       "      <th></th>\n",
       "      <th>Code</th>\n",
       "      <th>Category</th>\n",
       "      <th>Level</th>\n",
       "    </tr>\n",
       "  </thead>\n",
       "  <tbody>\n",
       "    <tr>\n",
       "      <th>2</th>\n",
       "      <td>23.11.11.11.11</td>\n",
       "      <td>Retaining Stabilizing Ground Components</td>\n",
       "      <td>4</td>\n",
       "    </tr>\n",
       "  </tbody>\n",
       "</table>\n",
       "</div>"
      ],
      "text/plain": [
       "             Code                                 Category  Level\n",
       "2  23.11.11.11.11  Retaining Stabilizing Ground Components      4"
      ]
     },
     "execution_count": 12,
     "metadata": {},
     "output_type": "execute_result"
    }
   ],
   "source": [
    "# recheck the data fine 23.11.11.11.11\n",
    "df[df[\"Code\"] == \"23.11.11.11.11\"]"
   ]
  },
  {
   "cell_type": "code",
   "execution_count": 11,
   "metadata": {},
   "outputs": [
    {
     "data": {
      "text/plain": [
       "'The ominiclass of Ground Improvement Products is 23.11.13.00 at level 2.'"
      ]
     },
     "execution_count": 11,
     "metadata": {},
     "output_type": "execute_result"
    }
   ],
   "source": [
    "agent.chat('give me omniclass of Ground Improvement Products? and level')"
   ]
  },
  {
   "cell_type": "code",
   "execution_count": 13,
   "metadata": {},
   "outputs": [
    {
     "data": {
      "text/html": [
       "<div>\n",
       "<style scoped>\n",
       "    .dataframe tbody tr th:only-of-type {\n",
       "        vertical-align: middle;\n",
       "    }\n",
       "\n",
       "    .dataframe tbody tr th {\n",
       "        vertical-align: top;\n",
       "    }\n",
       "\n",
       "    .dataframe thead th {\n",
       "        text-align: right;\n",
       "    }\n",
       "</style>\n",
       "<table border=\"1\" class=\"dataframe\">\n",
       "  <thead>\n",
       "    <tr style=\"text-align: right;\">\n",
       "      <th></th>\n",
       "      <th>Code</th>\n",
       "      <th>Category</th>\n",
       "      <th>Level</th>\n",
       "    </tr>\n",
       "  </thead>\n",
       "  <tbody>\n",
       "    <tr>\n",
       "      <th>12</th>\n",
       "      <td>23.11.13.00</td>\n",
       "      <td>Ground Improvement Products</td>\n",
       "      <td>2</td>\n",
       "    </tr>\n",
       "  </tbody>\n",
       "</table>\n",
       "</div>"
      ],
      "text/plain": [
       "           Code                     Category  Level\n",
       "12  23.11.13.00  Ground Improvement Products      2"
      ]
     },
     "execution_count": 13,
     "metadata": {},
     "output_type": "execute_result"
    }
   ],
   "source": [
    "# recheck the data fine Ground Improvement Products\n",
    "df[df[\"Category\"] == \"Ground Improvement Products\"]\n"
   ]
  },
  {
   "cell_type": "code",
   "execution_count": 10,
   "metadata": {},
   "outputs": [
    {
     "data": {
      "text/plain": [
       "'The code to map for category Pipe Fittings is 23.27.43.00.'"
      ]
     },
     "execution_count": 10,
     "metadata": {},
     "output_type": "execute_result"
    }
   ],
   "source": [
    "agent.chat('which code I should map for category Pipe Fittings?')"
   ]
  }
 ],
 "metadata": {
  "kernelspec": {
   "display_name": "Python 3",
   "language": "python",
   "name": "python3"
  },
  "language_info": {
   "codemirror_mode": {
    "name": "ipython",
    "version": 3
   },
   "file_extension": ".py",
   "mimetype": "text/x-python",
   "name": "python",
   "nbconvert_exporter": "python",
   "pygments_lexer": "ipython3",
   "version": "3.11.1"
  }
 },
 "nbformat": 4,
 "nbformat_minor": 2
}
